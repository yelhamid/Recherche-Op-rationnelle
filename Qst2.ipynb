{
 "cells": [
  {
   "cell_type": "code",
   "execution_count": 3,
   "id": "803febdd",
   "metadata": {},
   "outputs": [
    {
     "name": "stdout",
     "output_type": "stream",
     "text": [
      "Requirement already satisfied: scipy in c:\\users\\rpc\\anaconda3\\lib\\site-packages (1.9.1)\n",
      "Requirement already satisfied: numpy<1.25.0,>=1.18.5 in c:\\users\\rpc\\anaconda3\\lib\\site-packages (from scipy) (1.21.5)\n",
      "Note: you may need to restart the kernel to use updated packages.\n"
     ]
    }
   ],
   "source": [
    "pip install scipy\n"
   ]
  },
  {
   "cell_type": "code",
   "execution_count": 4,
   "id": "48402cb1",
   "metadata": {},
   "outputs": [],
   "source": [
    "from scipy.optimize import linprog\n"
   ]
  },
  {
   "cell_type": "code",
   "execution_count": 5,
   "id": "8dd41fc1",
   "metadata": {},
   "outputs": [],
   "source": [
    "# Coûts des aliments M et N en DH/kg\n",
    "cost_M = 100\n",
    "cost_N = 40"
   ]
  },
  {
   "cell_type": "code",
   "execution_count": 6,
   "id": "57c58fb2",
   "metadata": {},
   "outputs": [],
   "source": [
    "# Composition des aliments M et N en termes de A, B, C et D (en g/kg)\n",
    "composition_M = [100, 0, 100, 200]\n",
    "composition_N = [0, 100, 200, 100]\n"
   ]
  },
  {
   "cell_type": "code",
   "execution_count": 7,
   "id": "44a55b50",
   "metadata": {},
   "outputs": [],
   "source": [
    "# Besoins quotidiens minimaux pour A, B, C et D (en kg)\n",
    "min_A = 0.4\n",
    "min_B = 0.6\n",
    "min_C = 2\n",
    "min_D = 1.7"
   ]
  },
  {
   "cell_type": "code",
   "execution_count": 8,
   "id": "ff03db95",
   "metadata": {},
   "outputs": [],
   "source": [
    "\n",
    "# Création de la matrice des contraintes\n",
    "# Chaque ligne représente une contrainte (besoins minimaux pour A, B, C, D)\n",
    "# Chaque colonne représente une variable (quantités d'aliments M et N)\n",
    "constraint_matrix = [\n",
    "    [-composition_M[0], -composition_N[0]],  # Contrainte pour A\n",
    "    [0, -composition_N[1]],                  # Contrainte pour B\n",
    "    [-composition_M[2], -composition_N[2]],  # Contrainte pour C\n",
    "    [-composition_M[3], -composition_N[3]]   # Contrainte pour D\n",
    "]"
   ]
  },
  {
   "cell_type": "code",
   "execution_count": 9,
   "id": "3c07c304",
   "metadata": {},
   "outputs": [],
   "source": [
    "# Création du vecteur des coefficients de coût\n",
    "cost_coefficients = [cost_M, cost_N]\n"
   ]
  },
  {
   "cell_type": "code",
   "execution_count": 10,
   "id": "b455ad0e",
   "metadata": {},
   "outputs": [],
   "source": [
    "# Création du vecteur des bornes inférieures des variables (toutes les quantités doivent être positives)\n",
    "variable_bounds = [(0, None), (0, None)]\n"
   ]
  },
  {
   "cell_type": "code",
   "execution_count": 11,
   "id": "40956234",
   "metadata": {},
   "outputs": [],
   "source": [
    "# Création du vecteur des bornes des contraintes (besoins minimaux pour A, B, C, D)\n",
    "constraint_bounds = [-min_A, -min_B, -min_C, -min_D]\n"
   ]
  },
  {
   "cell_type": "code",
   "execution_count": 12,
   "id": "70005924",
   "metadata": {},
   "outputs": [],
   "source": [
    "# Résolution du problème d'optimisation linéaire\n",
    "result = linprog(cost_coefficients, A_ub=constraint_matrix, b_ub=constraint_bounds, bounds=variable_bounds, method='highs')\n"
   ]
  },
  {
   "cell_type": "code",
   "execution_count": 13,
   "id": "fa82cf10",
   "metadata": {},
   "outputs": [],
   "source": [
    "# Récupération des quantités d'aliments M et N optimales\n",
    "quantity_M = result.x[0]\n",
    "quantity_N = result.x[1]\n"
   ]
  },
  {
   "cell_type": "code",
   "execution_count": 14,
   "id": "bb6d6f95",
   "metadata": {},
   "outputs": [],
   "source": [
    "# Écriture des résultats dans un fichier\n",
    "with open('question3.ans', 'w') as file:\n",
    "    file.write(f\"Quantité d'aliment M : {quantity_M} kg\\n\")\n",
    "    file.write(f\"Quantité d'aliment N : {quantity_N} kg\\n\")\n"
   ]
  },
  {
   "cell_type": "code",
   "execution_count": 15,
   "id": "a0b23d1b",
   "metadata": {},
   "outputs": [
    {
     "name": "stdout",
     "output_type": "stream",
     "text": [
      "Quantité d'aliment M : 0.004 kg\n",
      "Quantité d'aliment N : 0.009 kg\n"
     ]
    }
   ],
   "source": [
    "print(\"Quantité d'aliment M :\", quantity_M, \"kg\")\n",
    "print(\"Quantité d'aliment N :\", quantity_N, \"kg\")"
   ]
  },
  {
   "cell_type": "code",
   "execution_count": null,
   "id": "8bd799b3",
   "metadata": {},
   "outputs": [],
   "source": []
  }
 ],
 "metadata": {
  "kernelspec": {
   "display_name": "Python 3 (ipykernel)",
   "language": "python",
   "name": "python3"
  },
  "language_info": {
   "codemirror_mode": {
    "name": "ipython",
    "version": 3
   },
   "file_extension": ".py",
   "mimetype": "text/x-python",
   "name": "python",
   "nbconvert_exporter": "python",
   "pygments_lexer": "ipython3",
   "version": "3.9.13"
  }
 },
 "nbformat": 4,
 "nbformat_minor": 5
}
