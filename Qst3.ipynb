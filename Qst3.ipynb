{
 "cells": [
  {
   "cell_type": "code",
   "execution_count": 2,
   "id": "71591845",
   "metadata": {},
   "outputs": [
    {
     "name": "stdout",
     "output_type": "stream",
     "text": [
      "Statut: Unbounded\n",
      "Jus_de_fruits = 20000.0\n",
      "Jus_de_mangue = 0.0\n",
      "Jus_dorange = 60000.0\n",
      "Profit net total = 420000.0\n"
     ]
    },
    {
     "name": "stderr",
     "output_type": "stream",
     "text": [
      "C:\\Users\\RPC\\anaconda3\\lib\\site-packages\\pulp\\pulp.py:1352: UserWarning: Spaces are not permitted in the name. Converted to '_'\n",
      "  warnings.warn(\"Spaces are not permitted in the name. Converted to '_'\")\n"
     ]
    }
   ],
   "source": [
    "from pulp import *\n",
    "\n",
    "# Création du problème\n",
    "prob = LpProblem(\"Optimisation de la production de jus\", LpMaximize)\n",
    "\n",
    "# Variables de décision\n",
    "x1 = LpVariable(\"Jus_dorange\", lowBound=0)\n",
    "x2 = LpVariable(\"Jus_de_mangue\", lowBound=0)\n",
    "x3 = LpVariable(\"Jus_de_fruits\", lowBound=0)\n",
    "\n",
    "# Fonction objectif\n",
    "prob += 5 * x1 + 4.5 * x2 + 6 * x3, \"Profit_net\"\n",
    "\n",
    "# Contraintes\n",
    "prob += x1 + x2 >= 45000, \"Contrainte_quantite_min\"\n",
    "prob += x3 <= 20000, \"Contrainte_quantite_max\"\n",
    "prob += x1 >= 2 * x3, \"Contrainte_proportion\"\n",
    "prob += x1 + x2 + x3 >= 80000, \"Contrainte_quantite_totale\"\n",
    "\n",
    "# Résolution du problème\n",
    "prob.solve()\n",
    "\n",
    "# Affichage du statut de la solution\n",
    "print(\"Statut:\", LpStatus[prob.status])\n",
    "\n",
    "# Affichage des quantités produites\n",
    "for v in prob.variables():\n",
    "    print(v.name, \"=\", v.varValue)\n",
    "\n",
    "# Affichage du profit net total\n",
    "print(\"Profit net total =\", value(prob.objective))\n"
   ]
  },
  {
   "cell_type": "code",
   "execution_count": null,
   "id": "fb481d79",
   "metadata": {},
   "outputs": [],
   "source": []
  }
 ],
 "metadata": {
  "kernelspec": {
   "display_name": "Python 3 (ipykernel)",
   "language": "python",
   "name": "python3"
  },
  "language_info": {
   "codemirror_mode": {
    "name": "ipython",
    "version": 3
   },
   "file_extension": ".py",
   "mimetype": "text/x-python",
   "name": "python",
   "nbconvert_exporter": "python",
   "pygments_lexer": "ipython3",
   "version": "3.9.13"
  }
 },
 "nbformat": 4,
 "nbformat_minor": 5
}
