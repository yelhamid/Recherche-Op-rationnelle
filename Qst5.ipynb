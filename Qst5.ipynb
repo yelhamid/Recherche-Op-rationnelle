{
 "cells": [
  {
   "cell_type": "code",
   "execution_count": 1,
   "id": "cfde0941",
   "metadata": {},
   "outputs": [
    {
     "name": "stdout",
     "output_type": "stream",
     "text": [
      "Statut: Optimal\n",
      "x_1 = 0.0\n",
      "x_2 = 2000.0\n",
      "x_3 = 0.0\n",
      "x_4 = 0.0\n",
      "y_1 = 0.0\n",
      "y_2 = 1.0\n",
      "y_3 = 0.0\n",
      "y_4 = 0.0\n",
      "z = 0.0\n",
      "Profit total = 80000.0\n"
     ]
    }
   ],
   "source": [
    "from pulp import *\n",
    "\n",
    "# Création du problème\n",
    "prob = LpProblem(\"Optimisation\", LpMaximize)\n",
    "\n",
    "# Variables de décision\n",
    "x = LpVariable.dicts(\"x\", range(1, 5), lowBound=0)\n",
    "y = LpVariable.dicts(\"y\", range(1, 5), cat=LpBinary)\n",
    "z = LpVariable(\"z\", cat=LpBinary)\n",
    "\n",
    "# Coefficients de la fonction objectif\n",
    "c = [70, 60, 90, 80, -50000, -40000, -70000, -60000]\n",
    "\n",
    "# Fonction objectif\n",
    "prob += lpDot(c, [x[i] for i in range(1, 5)] + [y[i] for i in range(1, 5)]) - z * 6000, \"Profit_total\"\n",
    "\n",
    "# Contraintes\n",
    "prob += lpSum([4 * y[1]]) <= 2, \"Contrainte1\"\n",
    "for i in range(1, 5):\n",
    "    prob += x[i] <= 1000000 * y[i], f\"Contrainte2_{i}\"\n",
    "prob += y[3] + y[4] <= y[1] + y[2], \"Contrainte3\"\n",
    "prob += lpDot([5, 3, 6, 4], [x[i] for i in range(1, 5)]) <= 6000 + z * 1000000, \"Contrainte4\"\n",
    "prob += lpDot([4, 6, 3, 5], [x[i] for i in range(1, 5)]) <= 6000 + (1 - z) * 1000000, \"Contrainte5\"\n",
    "\n",
    "# Résolution du problème\n",
    "prob.solve()\n",
    "\n",
    "# Affichage du statut de la solution\n",
    "print(\"Statut:\", LpStatus[prob.status])\n",
    "\n",
    "# Affichage des valeurs des variables\n",
    "for v in prob.variables():\n",
    "    print(v.name, \"=\", v.varValue)\n",
    "\n",
    "# Affichage de la valeur de la fonction objectif\n",
    "print(\"Profit total =\", value(prob.objective))\n"
   ]
  },
  {
   "cell_type": "code",
   "execution_count": 3,
   "id": "543d6943",
   "metadata": {},
   "outputs": [
    {
     "ename": "ValueError",
     "evalue": "Invalid input for linprog: unable to interpret bounds with this dimension tuple: (9, 2).",
     "output_type": "error",
     "traceback": [
      "\u001b[1;31m---------------------------------------------------------------------------\u001b[0m",
      "\u001b[1;31mValueError\u001b[0m                                Traceback (most recent call last)",
      "\u001b[1;32m~\\AppData\\Local\\Temp\\ipykernel_15248\\2178285604.py\u001b[0m in \u001b[0;36m<module>\u001b[1;34m\u001b[0m\n\u001b[0;32m     28\u001b[0m \u001b[1;33m\u001b[0m\u001b[0m\n\u001b[0;32m     29\u001b[0m \u001b[1;31m# Résolution du problème\u001b[0m\u001b[1;33m\u001b[0m\u001b[1;33m\u001b[0m\u001b[0m\n\u001b[1;32m---> 30\u001b[1;33m \u001b[0mresult\u001b[0m \u001b[1;33m=\u001b[0m \u001b[0mlinprog\u001b[0m\u001b[1;33m(\u001b[0m\u001b[0mc\u001b[0m\u001b[1;33m,\u001b[0m \u001b[0mA_ub\u001b[0m\u001b[1;33m=\u001b[0m\u001b[0mA\u001b[0m\u001b[1;33m,\u001b[0m \u001b[0mb_ub\u001b[0m\u001b[1;33m=\u001b[0m\u001b[0mb\u001b[0m\u001b[1;33m,\u001b[0m \u001b[0mbounds\u001b[0m\u001b[1;33m=\u001b[0m\u001b[0mx_bounds\u001b[0m \u001b[1;33m+\u001b[0m \u001b[0my_bounds\u001b[0m \u001b[1;33m+\u001b[0m \u001b[0mz_bounds\u001b[0m\u001b[1;33m,\u001b[0m \u001b[0mmethod\u001b[0m\u001b[1;33m=\u001b[0m\u001b[1;34m'highs'\u001b[0m\u001b[1;33m)\u001b[0m\u001b[1;33m\u001b[0m\u001b[1;33m\u001b[0m\u001b[0m\n\u001b[0m\u001b[0;32m     31\u001b[0m \u001b[1;33m\u001b[0m\u001b[0m\n\u001b[0;32m     32\u001b[0m \u001b[1;31m# Affichage du statut de la solution\u001b[0m\u001b[1;33m\u001b[0m\u001b[1;33m\u001b[0m\u001b[0m\n",
      "\u001b[1;32m~\\anaconda3\\lib\\site-packages\\scipy\\optimize\\_linprog.py\u001b[0m in \u001b[0;36mlinprog\u001b[1;34m(c, A_ub, b_ub, A_eq, b_eq, bounds, method, callback, options, x0, integrality)\u001b[0m\n\u001b[0;32m    589\u001b[0m \u001b[1;33m\u001b[0m\u001b[0m\n\u001b[0;32m    590\u001b[0m     \u001b[0mlp\u001b[0m \u001b[1;33m=\u001b[0m \u001b[0m_LPProblem\u001b[0m\u001b[1;33m(\u001b[0m\u001b[0mc\u001b[0m\u001b[1;33m,\u001b[0m \u001b[0mA_ub\u001b[0m\u001b[1;33m,\u001b[0m \u001b[0mb_ub\u001b[0m\u001b[1;33m,\u001b[0m \u001b[0mA_eq\u001b[0m\u001b[1;33m,\u001b[0m \u001b[0mb_eq\u001b[0m\u001b[1;33m,\u001b[0m \u001b[0mbounds\u001b[0m\u001b[1;33m,\u001b[0m \u001b[0mx0\u001b[0m\u001b[1;33m,\u001b[0m \u001b[0mintegrality\u001b[0m\u001b[1;33m)\u001b[0m\u001b[1;33m\u001b[0m\u001b[1;33m\u001b[0m\u001b[0m\n\u001b[1;32m--> 591\u001b[1;33m     \u001b[0mlp\u001b[0m\u001b[1;33m,\u001b[0m \u001b[0msolver_options\u001b[0m \u001b[1;33m=\u001b[0m \u001b[0m_parse_linprog\u001b[0m\u001b[1;33m(\u001b[0m\u001b[0mlp\u001b[0m\u001b[1;33m,\u001b[0m \u001b[0moptions\u001b[0m\u001b[1;33m,\u001b[0m \u001b[0mmeth\u001b[0m\u001b[1;33m)\u001b[0m\u001b[1;33m\u001b[0m\u001b[1;33m\u001b[0m\u001b[0m\n\u001b[0m\u001b[0;32m    592\u001b[0m     \u001b[0mtol\u001b[0m \u001b[1;33m=\u001b[0m \u001b[0msolver_options\u001b[0m\u001b[1;33m.\u001b[0m\u001b[0mget\u001b[0m\u001b[1;33m(\u001b[0m\u001b[1;34m'tol'\u001b[0m\u001b[1;33m,\u001b[0m \u001b[1;36m1e-9\u001b[0m\u001b[1;33m)\u001b[0m\u001b[1;33m\u001b[0m\u001b[1;33m\u001b[0m\u001b[0m\n\u001b[0;32m    593\u001b[0m \u001b[1;33m\u001b[0m\u001b[0m\n",
      "\u001b[1;32m~\\anaconda3\\lib\\site-packages\\scipy\\optimize\\_linprog_util.py\u001b[0m in \u001b[0;36m_parse_linprog\u001b[1;34m(lp, options, meth)\u001b[0m\n\u001b[0;32m   1002\u001b[0m                                                       lp.A_ub, lp.A_eq)\n\u001b[0;32m   1003\u001b[0m     \u001b[1;31m# Convert lists to numpy arrays, etc...\u001b[0m\u001b[1;33m\u001b[0m\u001b[1;33m\u001b[0m\u001b[0m\n\u001b[1;32m-> 1004\u001b[1;33m     \u001b[0mlp\u001b[0m \u001b[1;33m=\u001b[0m \u001b[0m_clean_inputs\u001b[0m\u001b[1;33m(\u001b[0m\u001b[0mlp\u001b[0m\u001b[1;33m.\u001b[0m\u001b[0m_replace\u001b[0m\u001b[1;33m(\u001b[0m\u001b[0mA_ub\u001b[0m\u001b[1;33m=\u001b[0m\u001b[0mA_ub\u001b[0m\u001b[1;33m,\u001b[0m \u001b[0mA_eq\u001b[0m\u001b[1;33m=\u001b[0m\u001b[0mA_eq\u001b[0m\u001b[1;33m)\u001b[0m\u001b[1;33m)\u001b[0m\u001b[1;33m\u001b[0m\u001b[1;33m\u001b[0m\u001b[0m\n\u001b[0m\u001b[0;32m   1005\u001b[0m     \u001b[1;32mreturn\u001b[0m \u001b[0mlp\u001b[0m\u001b[1;33m,\u001b[0m \u001b[0msolver_options\u001b[0m\u001b[1;33m\u001b[0m\u001b[1;33m\u001b[0m\u001b[0m\n\u001b[0;32m   1006\u001b[0m \u001b[1;33m\u001b[0m\u001b[0m\n",
      "\u001b[1;32m~\\anaconda3\\lib\\site-packages\\scipy\\optimize\\_linprog_util.py\u001b[0m in \u001b[0;36m_clean_inputs\u001b[1;34m(lp)\u001b[0m\n\u001b[0;32m    438\u001b[0m             \"not a 2 x {:d} array.\".format(n_x, n_x))\n\u001b[0;32m    439\u001b[0m     \u001b[1;32melse\u001b[0m\u001b[1;33m:\u001b[0m\u001b[1;33m\u001b[0m\u001b[1;33m\u001b[0m\u001b[0m\n\u001b[1;32m--> 440\u001b[1;33m         raise ValueError(\n\u001b[0m\u001b[0;32m    441\u001b[0m             \u001b[1;34m\"Invalid input for linprog: unable to interpret bounds with this \"\u001b[0m\u001b[1;33m\u001b[0m\u001b[1;33m\u001b[0m\u001b[0m\n\u001b[0;32m    442\u001b[0m             \"dimension tuple: {0}.\".format(bsh))\n",
      "\u001b[1;31mValueError\u001b[0m: Invalid input for linprog: unable to interpret bounds with this dimension tuple: (9, 2)."
     ]
    }
   ],
   "source": [
    "import numpy as np\n",
    "from scipy.optimize import linprog\n",
    "\n",
    "# Coefficients de la fonction objectif\n",
    "c = [-70, -60, -90, -80, 50000, 40000, 70000, 60000]\n",
    "\n",
    "# Matrice des contraintes\n",
    "A = np.array([\n",
    "    [0, 0, 0, 0, -4, 0, 0, 0],\n",
    "    [-1, 0, 0, 0, 0, 0, 0, 0],\n",
    "    [0, -1, 0, 0, 0, 0, 0, 0],\n",
    "    [0, 0, -1, 0, 0, 0, 0, 0],\n",
    "    [0, 0, 0, -1, 0, 0, 0, 0],\n",
    "    [0, 0, 0, 0, 0, 0, -1, 0],\n",
    "    [0, 0, 0, 0, 0, 0, 0, -1],\n",
    "    [0, 0, 0, 0, 0, 1, 1, -1],\n",
    "    [-5, -3, -6, -4, 0, 0, 0, 0],\n",
    "    [-4, -6, -3, -5, 0, 0, 0, 0]\n",
    "])\n",
    "\n",
    "# Vecteur des limites des contraintes\n",
    "b = np.array([-2, 0, 0, 0, 0, 0, 0, 0, -6000, -6000])\n",
    "\n",
    "# Bornes des variables\n",
    "x_bounds = [(0, None)] * 4\n",
    "y_bounds = [(0, 1)] * 4\n",
    "z_bounds = [(0, 1)]\n",
    "\n",
    "# Résolution du problème\n",
    "result = linprog(c, A_ub=A, b_ub=b, bounds=x_bounds + y_bounds + z_bounds, method='highs')\n",
    "\n",
    "# Affichage du statut de la solution\n",
    "print(\"Statut:\", result.message)\n",
    "\n",
    "# Affichage des valeurs des variables\n",
    "print(\"Valeurs des variables:\")\n",
    "for i, var in enumerate(result.x):\n",
    "    print(f\"x{i+1} =\", var)\n",
    "\n",
    "# Affichage de la valeur de la fonction objectif\n",
    "print(\"Profit total =\", -result.fun)\n"
   ]
  },
  {
   "cell_type": "code",
   "execution_count": null,
   "id": "a98a303b",
   "metadata": {},
   "outputs": [],
   "source": []
  }
 ],
 "metadata": {
  "kernelspec": {
   "display_name": "Python 3 (ipykernel)",
   "language": "python",
   "name": "python3"
  },
  "language_info": {
   "codemirror_mode": {
    "name": "ipython",
    "version": 3
   },
   "file_extension": ".py",
   "mimetype": "text/x-python",
   "name": "python",
   "nbconvert_exporter": "python",
   "pygments_lexer": "ipython3",
   "version": "3.9.13"
  }
 },
 "nbformat": 4,
 "nbformat_minor": 5
}
