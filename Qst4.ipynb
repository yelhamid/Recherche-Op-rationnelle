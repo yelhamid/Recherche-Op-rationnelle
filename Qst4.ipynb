{
 "cells": [
  {
   "cell_type": "code",
   "execution_count": 1,
   "id": "ef1fd316",
   "metadata": {},
   "outputs": [
    {
     "name": "stdout",
     "output_type": "stream",
     "text": [
      "Statut: Optimal\n",
      "Voitures_economiques = 270.0\n",
      "Voitures_sport = 120.0\n",
      "Profit total = 11661300.0\n"
     ]
    },
    {
     "name": "stderr",
     "output_type": "stream",
     "text": [
      "C:\\Users\\RPC\\anaconda3\\lib\\site-packages\\pulp\\pulp.py:1352: UserWarning: Spaces are not permitted in the name. Converted to '_'\n",
      "  warnings.warn(\"Spaces are not permitted in the name. Converted to '_'\")\n"
     ]
    }
   ],
   "source": [
    "from pulp import *\n",
    "\n",
    "# Création du problème\n",
    "prob = LpProblem(\"Optimisation des voitures\", LpMaximize)\n",
    "\n",
    "# Variables de décision\n",
    "x1 = LpVariable(\"Voitures_sport\", lowBound=0)\n",
    "x2 = LpVariable(\"Voitures_economiques\", lowBound=0)\n",
    "\n",
    "# Fonction objectif\n",
    "prob += 22410 * x1 + 33230 * x2, \"Profit_total\"\n",
    "\n",
    "# Contraintes\n",
    "prob += 3.5 * x1 + 4 * x2 <= 1500, \"Contrainte_atelier1\"\n",
    "prob += 2 * x1 + 3 * x2 <= 2000, \"Contrainte_atelier2\"\n",
    "prob += x1 >= 120, \"Contrainte_economique\"\n",
    "\n",
    "# Résolution du problème\n",
    "prob.solve()\n",
    "\n",
    "# Affichage du statut de la solution\n",
    "print(\"Statut:\", LpStatus[prob.status])\n",
    "\n",
    "# Affichage des quantités de voitures produites\n",
    "for v in prob.variables():\n",
    "    print(v.name, \"=\", v.varValue)\n",
    "\n",
    "# Affichage du profit total\n",
    "print(\"Profit total =\", value(prob.objective))\n"
   ]
  },
  {
   "cell_type": "code",
   "execution_count": null,
   "id": "4f9aaa43",
   "metadata": {},
   "outputs": [],
   "source": [
    "from pulp import *\n",
    "\n",
    "# Création du problème\n",
    "prob = LpProblem(\"Optimisation des voitures\", LpMaximize)\n",
    "\n",
    "# Variables de décision\n",
    "x1 = LpVariable(\"Voitures_sport\", lowBound=0)\n",
    "x2 = LpVariable(\"Voitures_economiques\", lowBound=0)\n",
    "\n",
    "# Fonction objectif\n",
    "prob += 22410 * x1 + 33230 * x2, \"Profit_total\"\n",
    "\n",
    "# Contraintes\n",
    "prob += 3.5 * x1 + 4 * x2 <= 1500, \"Contrainte_atelier1\"\n",
    "prob += 2 * x1 + 3 * x2 <= 2000, \"Contrainte_atelier2\"\n",
    "prob += x1 >= 120, \"Contrainte_economique\"\n",
    "\n",
    "# Résolution du problème\n",
    "prob.solve()\n",
    "\n",
    "# Affichage du statut de la solution\n",
    "print(\"Statut:\", LpStatus[prob.status])\n",
    "\n",
    "# Affichage des quantités de voitures produites\n",
    "for v in prob.variables():\n",
    "    print(v.name, \"=\", v.varValue)\n",
    "\n",
    "# Affichage du profit total\n",
    "print(\"Profit total =\", value(prob.objective))\n"
   ]
  },
  {
   "cell_type": "code",
   "execution_count": null,
   "id": "94797c74",
   "metadata": {},
   "outputs": [],
   "source": []
  }
 ],
 "metadata": {
  "kernelspec": {
   "display_name": "Python 3 (ipykernel)",
   "language": "python",
   "name": "python3"
  },
  "language_info": {
   "codemirror_mode": {
    "name": "ipython",
    "version": 3
   },
   "file_extension": ".py",
   "mimetype": "text/x-python",
   "name": "python",
   "nbconvert_exporter": "python",
   "pygments_lexer": "ipython3",
   "version": "3.9.13"
  }
 },
 "nbformat": 4,
 "nbformat_minor": 5
}
