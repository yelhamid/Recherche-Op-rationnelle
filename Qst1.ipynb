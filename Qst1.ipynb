{
 "cells": [
  {
   "cell_type": "code",
   "execution_count": 4,
   "id": "3ad80133",
   "metadata": {},
   "outputs": [
    {
     "name": "stdout",
     "output_type": "stream",
     "text": [
      "Collecting pulp\n",
      "  Downloading PuLP-2.7.0-py3-none-any.whl (14.3 MB)\n",
      "     -------------------------------------- 14.3/14.3 MB 134.5 kB/s eta 0:00:00\n",
      "Installing collected packages: pulp\n",
      "Successfully installed pulp-2.7.0\n",
      "Note: you may need to restart the kernel to use updated packages.\n"
     ]
    }
   ],
   "source": [
    "pip install pulp"
   ]
  },
  {
   "cell_type": "code",
   "execution_count": 5,
   "id": "57d061e5",
   "metadata": {},
   "outputs": [],
   "source": [
    "from pulp import *"
   ]
  },
  {
   "cell_type": "code",
   "execution_count": 6,
   "id": "d5ab679c",
   "metadata": {},
   "outputs": [],
   "source": [
    "# Création du problème\n",
    "prob = LpProblem(\"Probleme_Agriculteur\", LpMaximize)\n",
    "\n",
    "# Définition des variables de décision\n",
    "x1 = LpVariable(\"x1\", lowBound=0)\n",
    "x2 = LpVariable(\"x2\", lowBound=0)"
   ]
  },
  {
   "cell_type": "code",
   "execution_count": null,
   "id": "2a057c76",
   "metadata": {},
   "outputs": [],
   "source": [
    "# Définition de la fonction objectif\n",
    "prob += 1000*x1 + 2000*x2\n",
    "\n",
    "# Définition des contraintes\n",
    "prob += x1 + x2 <= 150\n",
    "prob += 4*x1 + 2*x2 <= 440\n",
    "prob += x1 + 4*x2 <= 480\n",
    "prob += x1 <= 90"
   ]
  },
  {
   "cell_type": "code",
   "execution_count": null,
   "id": "7e978547",
   "metadata": {},
   "outputs": [],
   "source": [
    "# Résolution du problème\n",
    "prob.solve()\n",
    "\n",
    "# Affichage de la solution\n",
    "print(\"Status:\", LpStatus[prob.status])\n",
    "print(\"Valeur optimale :\", value(prob.objective))\n",
    "for v in prob.variables():\n",
    "    print(v.name, \"=\", v.varValue)\n"
   ]
  },
  {
   "cell_type": "code",
   "execution_count": null,
   "id": "838fe147",
   "metadata": {},
   "outputs": [],
   "source": []
  }
 ],
 "metadata": {
  "kernelspec": {
   "display_name": "Python 3 (ipykernel)",
   "language": "python",
   "name": "python3"
  },
  "language_info": {
   "codemirror_mode": {
    "name": "ipython",
    "version": 3
   },
   "file_extension": ".py",
   "mimetype": "text/x-python",
   "name": "python",
   "nbconvert_exporter": "python",
   "pygments_lexer": "ipython3",
   "version": "3.9.13"
  }
 },
 "nbformat": 4,
 "nbformat_minor": 5
}
